{
 "cells": [
  {
   "cell_type": "code",
   "execution_count": 1,
   "id": "5437be1e",
   "metadata": {},
   "outputs": [],
   "source": [
    "# Load env variables and create client\n",
    "from dotenv import load_dotenv\n",
    "from anthropic import Anthropic\n",
    "\n",
    "load_dotenv()\n",
    "\n",
    "client = Anthropic()\n",
    "model = \"claude-3-5-haiku-latest\""
   ]
  },
  {
   "cell_type": "code",
   "execution_count": 2,
   "id": "3b0d8e9c",
   "metadata": {},
   "outputs": [],
   "source": [
    "# Helper functions\n",
    "def add_user_message(messages, text):\n",
    "    user_message = {\"role\": \"user\", \"content\": text}\n",
    "    messages.append(user_message)\n",
    "\n",
    "\n",
    "def add_assistant_message(messages, text):\n",
    "    assistant_message = {\"role\": \"assistant\", \"content\": text}\n",
    "    messages.append(assistant_message)\n",
    "\n",
    "\n",
    "def chat(messages, system=None, temperature=1.0, stop_sequences=[]):\n",
    "    params = {\n",
    "        \"model\": model,\n",
    "        \"max_tokens\": 1000,\n",
    "        \"messages\": messages,\n",
    "        \"temperature\": temperature,\n",
    "        \"stop_sequences\": stop_sequences,\n",
    "    }\n",
    "\n",
    "    if system:\n",
    "        params[\"system\"] = system\n",
    "\n",
    "    message = client.messages.create(**params)\n",
    "    return message.content[0].text"
   ]
  },
  {
   "cell_type": "code",
   "execution_count": 3,
   "id": "1e788701",
   "metadata": {},
   "outputs": [],
   "source": [
    "import json\n",
    "\n",
    "\n",
    "def generate_dataset():\n",
    "    prompt = \"\"\"\n",
    "Generate a evaluation dataset for a prompt evaluation. The dataset will be used to evaluate prompts\n",
    "that generate Python, JSON, or Regex specifically for AWS-related tasks. Generate an array of JSON objects,\n",
    "each representing task that requires Python, JSON, or a Regex to complete.\n",
    "\n",
    "Example output:\n",
    "```json\n",
    "[\n",
    "    {\n",
    "        \"task\": \"Description of task\",\n",
    "    },\n",
    "    ...additional\n",
    "]\n",
    "```\n",
    "\n",
    "* Focus on tasks that can be solved by writing a single Python function, a single JSON object, or a regular expression.\n",
    "* Focus on tasks that do not require writing much code\n",
    "\n",
    "Please generate 3 objects.\n",
    "\"\"\"\n",
    "\n",
    "    messages = []\n",
    "    add_user_message(messages, prompt)\n",
    "    add_assistant_message(messages, \"```json\")\n",
    "    response = chat(messages, stop_sequences=[\"```\"])\n",
    "    return json.loads(response)"
   ]
  },
  {
   "cell_type": "code",
   "execution_count": 4,
   "id": "7a3af468",
   "metadata": {},
   "outputs": [
    {
     "data": {
      "text/plain": [
       "[{'task': 'Create a Python function to extract the AWS region from an EC2 instance ARN'},\n",
       " {'task': 'Write a JSON schema to validate an AWS IAM policy document'},\n",
       " {'task': 'Develop a regular expression to match valid AWS resource names (containing only lowercase letters, numbers, and hyphens)'}]"
      ]
     },
     "execution_count": 4,
     "metadata": {},
     "output_type": "execute_result"
    }
   ],
   "source": [
    "dataset = generate_dataset()\n",
    "\n",
    "dataset"
   ]
  },
  {
   "cell_type": "code",
   "execution_count": 5,
   "id": "959e0737",
   "metadata": {},
   "outputs": [],
   "source": [
    "with open(\"dataset.json\", \"w\") as f:\n",
    "    json.dump(dataset, f, indent=2)"
   ]
  },
  {
   "cell_type": "code",
   "execution_count": 6,
   "id": "dbec50ef",
   "metadata": {},
   "outputs": [],
   "source": [
    "def run_prompt(test_case):\n",
    "    \"\"\"Merges the prompt and test case input, then returns the result\"\"\"\n",
    "    prompt = f\"\"\"\n",
    "    Please solve the following task:\n",
    "\n",
    "    {test_case['task']}\n",
    "    \"\"\"\n",
    "\n",
    "    messages = []\n",
    "    add_user_message(messages, prompt)\n",
    "    output = chat(messages)\n",
    "    return output"
   ]
  },
  {
   "cell_type": "code",
   "execution_count": 7,
   "id": "c39301e3",
   "metadata": {},
   "outputs": [],
   "source": [
    "def run_test_case(test_case):\n",
    "    \"\"\"Calls run_prompt, then grades the result\"\"\"\n",
    "    output = run_prompt(test_case)\n",
    "\n",
    "    # TODO - Grading\n",
    "    score = 10\n",
    "\n",
    "    return {\n",
    "        \"output\": output,\n",
    "        \"test_case\": test_case,\n",
    "        \"score\": score,\n",
    "    }\n"
   ]
  },
  {
   "cell_type": "code",
   "execution_count": 8,
   "id": "b1fc5308",
   "metadata": {},
   "outputs": [],
   "source": [
    "def run_eval(dataset):\n",
    "    \"\"\"Loads the dataset and calls run_test_case with each case\"\"\"\n",
    "\n",
    "    results = []\n",
    "    for test_case in dataset:\n",
    "        result = run_test_case(test_case)\n",
    "        results.append(result)\n",
    "\n",
    "    return results"
   ]
  },
  {
   "cell_type": "code",
   "execution_count": 9,
   "id": "af0fba87",
   "metadata": {},
   "outputs": [],
   "source": [
    "with open(\"dataset.json\", \"r\") as f:\n",
    "    dataset = json.load(f)\n",
    "\n",
    "results = run_eval(dataset)"
   ]
  },
  {
   "cell_type": "code",
   "execution_count": 10,
   "id": "1a68f731",
   "metadata": {},
   "outputs": [
    {
     "data": {
      "text/plain": [
       "[{'output': 'Here\\'s a Python function that extracts the AWS region from an EC2 instance ARN:\\n\\n```python\\ndef extract_region_from_arn(arn):\\n    \"\"\"\\n    Extract the AWS region from an EC2 instance ARN.\\n    \\n    Args:\\n        arn (str): The full AWS EC2 instance ARN\\n    \\n    Returns:\\n        str: The AWS region extracted from the ARN\\n        None: If the ARN is invalid or region cannot be extracted\\n    \"\"\"\\n    # Validate ARN format\\n    if not arn or not isinstance(arn, str):\\n        return None\\n    \\n    # Split the ARN into its components\\n    # Typical ARN format: \\n    # arn:aws:ec2:region:account-id:instance/instance-id\\n    arn_parts = arn.split(\\':\\')\\n    \\n    # Check if ARN has the expected number of parts\\n    if len(arn_parts) < 4:\\n        return None\\n    \\n    # The region is typically the 4th part (index 3)\\n    region = arn_parts[3]\\n    \\n    # Additional validation\\n    if not region:\\n        return None\\n    \\n    return region\\n\\n# Example usage and test cases\\ndef test_extract_region():\\n    # Test cases\\n    test_arns = [\\n        # Valid ARNs\\n        \"arn:aws:ec2:us-west-2:123456789012:instance/i-1234567890abcdef0\",\\n        \"arn:aws:ec2:eu-central-1:987654321098:instance/i-0987654321fedcba0\",\\n        \\n        # Invalid ARNs\\n        \"arn:aws:ec2::123456789012:instance/i-1234567890abcdef0\",  # Empty region\\n        \"invalid-arn\",  # Completely invalid format\\n        \"\",  # Empty string\\n        None  # None input\\n    ]\\n    \\n    for arn in test_arns:\\n        region = extract_region_from_arn(arn)\\n        print(f\"ARN: {arn}\")\\n        print(f\"Region: {region}\\\\n\")\\n\\n# Run the test cases\\ntest_extract_region()\\n```\\n\\nThis implementation provides several key features:\\n\\n1. **ARN Parsing**: It splits the ARN and extracts the region component.\\n\\n2. **Validation**: \\n   - Checks for None or non-string inputs\\n   - Ensures the ARN has enough parts\\n   - Validates that the region is not empty\\n\\n3. **Flexibility**: Works with standard EC2 instance ARN formats\\n\\nExample output:\\n```\\nARN: arn:aws:ec2:us-west-2:123456789012:instance/i-1234567890abcdef0\\nRegion: us-west-2\\n\\nARN: arn:aws:ec2:eu-central-1:987654321098:instance/i-0987654321fedcba0\\nRegion: eu-central-1\\n\\nARN: arn:aws:ec2::123456789012:instance/i-1234567890abcdef0\\nRegion: None\\n\\nARN: invalid-arn\\nRegion: None\\n\\nARN: \\nRegion: None\\n\\nARN: None\\nRegion: None\\n```\\n\\nAlternative Approach with Regular Expressions:\\n```python\\nimport re\\n\\ndef extract_region_from_arn_regex(arn):\\n    \"\"\"\\n    Extract AWS region using regex pattern matching.\\n    \\n    Args:\\n        arn (str): The full AWS EC2 instance ARN\\n    \\n    Returns:\\n        str: The AWS region extracted from the ARN\\n        None: If the ARN is invalid or region cannot be extracted\\n    \"\"\"\\n    if not arn or not isinstance(arn, str):\\n        return None\\n    \\n    # Regex pattern to match AWS ARN format\\n    pattern = r\\'arn:aws:ec2:([a-z0-9-]+):\\'\\n    \\n    match = re.search(pattern, arn)\\n    \\n    return match.group(1) if match else None\\n```\\n\\nThe regex approach offers a more concise solution but might be slightly less performant.\\n\\nKey Considerations:\\n- The function handles various edge cases',\n",
       "  'test_case': {'task': 'Create a Python function to extract the AWS region from an EC2 instance ARN'},\n",
       "  'score': 10},\n",
       " {'output': 'Here\\'s a comprehensive JSON schema to validate an AWS IAM policy document:\\n\\n```json\\n{\\n    \"$schema\": \"http://json-schema.org/draft-07/schema#\",\\n    \"type\": \"object\",\\n    \"required\": [\"Version\", \"Statement\"],\\n    \"properties\": {\\n        \"Version\": {\\n            \"type\": \"string\",\\n            \"enum\": [\"2012-10-17\", \"2008-10-17\"],\\n            \"description\": \"Policy language version\"\\n        },\\n        \"Statement\": {\\n            \"type\": \"array\",\\n            \"minItems\": 1,\\n            \"items\": {\\n                \"type\": \"object\",\\n                \"required\": [\"Effect\", \"Action\"],\\n                \"properties\": {\\n                    \"Sid\": {\\n                        \"type\": \"string\",\\n                        \"description\": \"Optional statement ID\"\\n                    },\\n                    \"Effect\": {\\n                        \"type\": \"string\",\\n                        \"enum\": [\"Allow\", \"Deny\"],\\n                        \"description\": \"Whether the statement allows or denies access\"\\n                    },\\n                    \"Action\": {\\n                        \"oneOf\": [\\n                            {\"type\": \"string\"},\\n                            {\\n                                \"type\": \"array\",\\n                                \"items\": {\"type\": \"string\"}\\n                            }\\n                        ],\\n                        \"description\": \"AWS service actions\"\\n                    },\\n                    \"Resource\": {\\n                        \"oneOf\": [\\n                            {\"type\": \"string\"},\\n                            {\\n                                \"type\": \"array\",\\n                                \"items\": {\"type\": \"string\"}\\n                            }\\n                        ],\\n                        \"description\": \"AWS resources the action applies to\"\\n                    },\\n                    \"Condition\": {\\n                        \"type\": \"object\",\\n                        \"description\": \"Conditions for policy enforcement\",\\n                        \"additionalProperties\": {\\n                            \"type\": \"object\",\\n                            \"additionalProperties\": {\\n                                \"oneOf\": [\\n                                    {\"type\": \"string\"},\\n                                    {\\n                                        \"type\": \"array\",\\n                                        \"items\": {\"type\": \"string\"}\\n                                    }\\n                                ]\\n                            }\\n                        }\\n                    },\\n                    \"Principal\": {\\n                        \"type\": [\"string\", \"object\"],\\n                        \"description\": \"IAM entities the policy applies to\"\\n                    }\\n                },\\n                \"additionalProperties\": false\\n            }\\n        }\\n    },\\n    \"additionalProperties\": false\\n}\\n```\\n\\nThis JSON schema provides comprehensive validation for AWS IAM policy documents:\\n\\nKey Features:\\n1. Validates policy version\\n2. Ensures at least one statement\\n3. Checks for required `Effect` and `Action`\\n4. Supports string or array for actions and resources\\n5. Validates condition and principal structures\\n6. Prevents additional unexpected properties\\n\\nExample Valid Policy:\\n```json\\n{\\n    \"Version\": \"2012-10-17\",\\n    \"Statement\": [\\n        {\\n            \"Effect\": \"Allow\",\\n            \"Action\": [\"s3:GetObject\", \"s3:PutObject\"],\\n            \"Resource\": \"arn:aws:s3:::mybucket/*\",\\n            \"Condition\": {\\n                \"StringEquals\": {\\n                    \"aws:PrincipalOrgID\": \"o-123456789\"\\n                }\\n            }\\n        }\\n    ]\\n}\\n```\\n\\nThe schema ensures that IAM policies conform to AWS specifications while providing flexibility for different policy configurations.',\n",
       "  'test_case': {'task': 'Write a JSON schema to validate an AWS IAM policy document'},\n",
       "  'score': 10},\n",
       " {'output': 'Here\\'s a solution for a regular expression to match valid AWS resource names:\\n\\n```python\\nimport re\\n\\n# Regular expression pattern\\npattern = r\\'^[a-z0-9-]+$\\'\\n\\n# Function to validate AWS resource name\\ndef is_valid_aws_resource_name(name):\\n    return re.match(pattern, name) is not None\\n\\n# Test cases\\ntest_names = [\\n    \"my-ec2-instance\",   # Valid\\n    \"database123\",       # Valid\\n    \"web-server-01\",     # Valid\\n    \"My-Resource\",       # Invalid (uppercase letters)\\n    \"resource_name\",     # Invalid (underscore)\\n    \"resource name\",     # Invalid (space)\\n    \"\",                  # Invalid (empty string)\\n]\\n\\n# Validate and print results\\nfor name in test_names:\\n    print(f\"{name}: {is_valid_aws_resource_name(name)}\")\\n```\\n\\nExplanation of the regex pattern `^[a-z0-9-]+$`:\\n- `^` - Start of the string\\n- `[a-z0-9-]` - Allows lowercase letters, numbers, and hyphens\\n- `+` - One or more of the previous character set\\n- `$` - End of the string\\n\\nThis ensures:\\n- Only lowercase letters\\n- Only numbers\\n- Only hyphens\\n- At least one character\\n- No other special characters',\n",
       "  'test_case': {'task': 'Develop a regular expression to match valid AWS resource names (containing only lowercase letters, numbers, and hyphens)'},\n",
       "  'score': 10}]"
      ]
     },
     "execution_count": 10,
     "metadata": {},
     "output_type": "execute_result"
    }
   ],
   "source": [
    "results"
   ]
  },
  {
   "cell_type": "code",
   "execution_count": null,
   "id": "012930f2",
   "metadata": {},
   "outputs": [],
   "source": []
  }
 ],
 "metadata": {
  "kernelspec": {
   "display_name": "prompt-eval",
   "language": "python",
   "name": "python3"
  },
  "language_info": {
   "codemirror_mode": {
    "name": "ipython",
    "version": 3
   },
   "file_extension": ".py",
   "mimetype": "text/x-python",
   "name": "python",
   "nbconvert_exporter": "python",
   "pygments_lexer": "ipython3",
   "version": "3.12.11"
  }
 },
 "nbformat": 4,
 "nbformat_minor": 5
}
