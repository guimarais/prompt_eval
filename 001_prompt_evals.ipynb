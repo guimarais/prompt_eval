{
 "cells": [
  {
   "cell_type": "code",
   "execution_count": 20,
   "id": "5437be1e",
   "metadata": {},
   "outputs": [],
   "source": [
    "# Load env variables and create client\n",
    "import re\n",
    "import ast\n",
    "from dotenv import load_dotenv\n",
    "from statistics import mean\n",
    "from anthropic import Anthropic\n",
    "\n",
    "load_dotenv()\n",
    "\n",
    "client = Anthropic()\n",
    "model = \"claude-3-5-haiku-latest\""
   ]
  },
  {
   "cell_type": "code",
   "execution_count": 2,
   "id": "3b0d8e9c",
   "metadata": {},
   "outputs": [],
   "source": [
    "# Helper functions\n",
    "def add_user_message(messages, text):\n",
    "    user_message = {\"role\": \"user\", \"content\": text}\n",
    "    messages.append(user_message)\n",
    "\n",
    "\n",
    "def add_assistant_message(messages, text):\n",
    "    assistant_message = {\"role\": \"assistant\", \"content\": text}\n",
    "    messages.append(assistant_message)\n",
    "\n",
    "\n",
    "def chat(messages, system=None, temperature=1.0, stop_sequences=[]):\n",
    "    params = {\n",
    "        \"model\": model,\n",
    "        \"max_tokens\": 1000,\n",
    "        \"messages\": messages,\n",
    "        \"temperature\": temperature,\n",
    "        \"stop_sequences\": stop_sequences,\n",
    "    }\n",
    "\n",
    "    if system:\n",
    "        params[\"system\"] = system\n",
    "\n",
    "    message = client.messages.create(**params)\n",
    "    return message.content[0].text"
   ]
  },
  {
   "cell_type": "code",
   "execution_count": 22,
   "id": "1e788701",
   "metadata": {},
   "outputs": [],
   "source": [
    "import json\n",
    "\n",
    "\n",
    "def generate_dataset():\n",
    "    prompt = \"\"\"\n",
    "Generate a evaluation dataset for a prompt evaluation. The dataset will be used to evaluate prompts\n",
    "that generate Python, JSON, or Regex specifically for AWS-related tasks. Generate an array of JSON objects,\n",
    "each representing task that requires Python, JSON, or a Regex to complete.\n",
    "\n",
    "Example output:\n",
    "```json\n",
    "[\n",
    "    {\n",
    "        \"task\": \"Description of task\",\n",
    "        \"format\": \"python|json|regex\"\n",
    "    },\n",
    "    ...additional\n",
    "]\n",
    "```\n",
    "\n",
    "* Focus on tasks that can be solved by writing a single Python function, a single JSON object, or a regular expression.\n",
    "* Focus on tasks that do not require writing much code\n",
    "\n",
    "Please generate 3 objects.\n",
    "\"\"\"\n",
    "\n",
    "    messages = []\n",
    "    add_user_message(messages, prompt)\n",
    "    add_assistant_message(messages, \"```json\")\n",
    "    response = chat(messages, stop_sequences=[\"```\"])\n",
    "    return json.loads(response)"
   ]
  },
  {
   "cell_type": "code",
   "execution_count": 23,
   "id": "7a3af468",
   "metadata": {},
   "outputs": [
    {
     "data": {
      "text/plain": [
       "[{'task': 'Create a regex to validate an AWS IAM username that must start with a letter, can include letters, numbers, and these special characters: +, =, ,, ., @, _, and must be between 1-64 characters long',\n",
       "  'format': 'regex'},\n",
       " {'task': 'Write a Python function that converts an AWS EC2 instance state code (0-16) to its human-readable description (e.g., 0 = pending, 16 = running)',\n",
       "  'format': 'python'},\n",
       " {'task': 'Create a JSON object representing the minimal configuration for an AWS S3 bucket policy that allows public read access',\n",
       "  'format': 'json'}]"
      ]
     },
     "execution_count": 23,
     "metadata": {},
     "output_type": "execute_result"
    }
   ],
   "source": [
    "dataset = generate_dataset()\n",
    "\n",
    "dataset"
   ]
  },
  {
   "cell_type": "code",
   "execution_count": 24,
   "id": "959e0737",
   "metadata": {},
   "outputs": [],
   "source": [
    "with open(\"dataset.json\", \"w\") as f:\n",
    "    json.dump(dataset, f, indent=2)"
   ]
  },
  {
   "cell_type": "code",
   "execution_count": 26,
   "id": "dbec50ef",
   "metadata": {},
   "outputs": [],
   "source": [
    "def run_prompt(test_case):\n",
    "    \"\"\"Merges the prompt and test case input, then returns the result\"\"\"\n",
    "    prompt = f\"\"\"\n",
    "    Please solve the following task:\n",
    "\n",
    "    {test_case['task']}\n",
    "\n",
    "    * Respond only with Python, JSON, or Regex as specified.\n",
    "    * Do not include any explanations or additional text.\n",
    "    \"\"\"\n",
    "\n",
    "    messages = []\n",
    "    add_user_message(messages, prompt)\n",
    "    add_assistant_message(messages, \"```code\")\n",
    "    output = chat(messages, stop_sequences=[\"```\"])\n",
    "    return output"
   ]
  },
  {
   "cell_type": "code",
   "execution_count": 12,
   "id": "1a9de5a9",
   "metadata": {},
   "outputs": [],
   "source": [
    "def grade_by_model(test_case, output):\n",
    "    \"\"\"Grades the output of a test case using another model or the model itself\"\"\"\n",
    "    eval_prompt = f\"\"\"\n",
    "    You are an expert AWS code reviewer. Your task is to evaluate the following AI-generated solution.\n",
    "\n",
    "    Original Task:\n",
    "    <task>\n",
    "    {test_case[\"task\"]}\n",
    "    </task>\n",
    "\n",
    "    Solution to Evaluate:\n",
    "    <solution>\n",
    "    {output}\n",
    "    </solution>\n",
    "\n",
    "    Output Format\n",
    "    Provide your evaluation as a structured JSON object with the following fields, in this specific order:\n",
    "    - \"strengths\": An array of 1-3 key strengths\n",
    "    - \"weaknesses\": An array of 1-3 key areas for improvement\n",
    "    - \"reasoning\": A concise explanation of your overall assessment\n",
    "    - \"score\": A number between 1-10\n",
    "\n",
    "    Respond with JSON. Keep your response concise and direct.\n",
    "    Example response shape:\n",
    "    {{\n",
    "        \"strengths\": string[],\n",
    "        \"weaknesses\": string[],\n",
    "        \"reasoning\": string,\n",
    "        \"score\": number\n",
    "    }}\n",
    "    \"\"\"\n",
    "\n",
    "    messages = []\n",
    "    add_user_message(messages, eval_prompt)\n",
    "    add_assistant_message(messages, \"```json\")\n",
    "    eval_response = chat(messages, stop_sequences=[\"```\"])\n",
    "    return json.loads(eval_response)"
   ]
  },
  {
   "cell_type": "code",
   "execution_count": null,
   "id": "ee5464cf",
   "metadata": {},
   "outputs": [],
   "source": [
    "def validate_json(text):\n",
    "    try:\n",
    "        json.loads(text.strip())\n",
    "        return 10\n",
    "    except json.JSONDecodeError:\n",
    "        return 0\n",
    "\n",
    "def validate_python(text):\n",
    "    try:\n",
    "        ast.parse(text.strip())\n",
    "        return 10\n",
    "    except SyntaxError:\n",
    "        return 0\n",
    "\n",
    "def validate_regex(text):\n",
    "    try:\n",
    "        re.compile(text.strip())\n",
    "        return 10\n",
    "    except re.error:\n",
    "        return 0\n",
    "    \n",
    "def grade_syntax(response, test_case):\n",
    "    format = test_case[\"format\"]\n",
    "    if format == \"json\":\n",
    "        return validate_json(response)\n",
    "    elif format == \"python\":\n",
    "        return validate_python(response)\n",
    "    else:\n",
    "        return validate_regex(response)"
   ]
  },
  {
   "cell_type": "code",
   "execution_count": null,
   "id": "c39301e3",
   "metadata": {},
   "outputs": [],
   "source": [
    "def run_test_case(test_case):\n",
    "    \"\"\"Calls run_prompt, then grades the result\"\"\"\n",
    "    output = run_prompt(test_case)\n",
    "\n",
    "    # TODO - Grading\n",
    "    model_score = grade_by_model(test_case, output)\n",
    "    score = model_score[\"score\"]\n",
    "    reasoning = model_score[\"reasoning\"]\n",
    "\n",
    "    syntax_score = grade_syntax(output, test_case)\n",
    "    score = (score + syntax_score) / 2  # Average the two scores\n",
    "\n",
    "    return {\n",
    "        \"output\": output,\n",
    "        \"test_case\": test_case,\n",
    "        \"score\": score,\n",
    "        \"reasoning\": reasoning\n",
    "    }\n"
   ]
  },
  {
   "cell_type": "code",
   "execution_count": 18,
   "id": "b1fc5308",
   "metadata": {},
   "outputs": [],
   "source": [
    "def run_eval(dataset):\n",
    "    \"\"\"Loads the dataset and calls run_test_case with each case\"\"\"\n",
    "\n",
    "    results = []\n",
    "    for test_case in dataset:\n",
    "        result = run_test_case(test_case)\n",
    "        results.append(result)\n",
    "\n",
    "    average_score = mean(result[\"score\"] for result in results)\n",
    "    print(f\"Average Score: {average_score}\")\n",
    "\n",
    "    return results"
   ]
  },
  {
   "cell_type": "code",
   "execution_count": 19,
   "id": "af0fba87",
   "metadata": {},
   "outputs": [
    {
     "name": "stdout",
     "output_type": "stream",
     "text": [
      "Average Score: 7.333333333333333\n"
     ]
    }
   ],
   "source": [
    "with open(\"dataset.json\", \"r\") as f:\n",
    "    dataset = json.load(f)\n",
    "\n",
    "results = run_eval(dataset)"
   ]
  },
  {
   "cell_type": "code",
   "execution_count": 16,
   "id": "1a68f731",
   "metadata": {},
   "outputs": [
    {
     "data": {
      "text/plain": [
       "[{'output': 'Here\\'s a Python function to extract the AWS region from an EC2 instance ARN:\\n\\n```python\\ndef extract_region_from_arn(arn):\\n    \"\"\"\\n    Extract the AWS region from an EC2 instance ARN.\\n    \\n    Args:\\n        arn (str): The full Amazon Resource Name (ARN) of an EC2 instance\\n    \\n    Returns:\\n        str: The AWS region extracted from the ARN, or None if the ARN is invalid\\n    \\n    Example:\\n        >>> extract_region_from_arn(\\'arn:aws:ec2:us-west-2:123456789012:instance/i-1234567890abcdef0\\')\\n        \\'us-west-2\\'\\n    \"\"\"\\n    # Check if the ARN is valid (starts with \\'arn:aws:\\')\\n    if not arn or not arn.startswith(\\'arn:aws:\\'):\\n        return None\\n    \\n    # Split the ARN into its components\\n    arn_parts = arn.split(\\':\\')\\n    \\n    # Validate the ARN structure\\n    if len(arn_parts) < 4:\\n        return None\\n    \\n    # The region is typically the 4th part of the ARN\\n    region = arn_parts[3]\\n    \\n    return region\\n\\n# Test the function\\ndef test_extract_region():\\n    # Test cases\\n    test_cases = [\\n        (\\'arn:aws:ec2:us-west-2:123456789012:instance/i-1234567890abcdef0\\', \\'us-west-2\\'),\\n        (\\'arn:aws:ec2:us-east-1:987654321098:instance/i-0987654321fedcba0\\', \\'us-east-1\\'),\\n        (\\'arn:aws:ec2:eu-central-1:111222333444:instance/i-1111222233334444\\', \\'eu-central-1\\'),\\n        (\\'invalid-arn\\', None),\\n        (\\'\\', None),\\n        (None, None)\\n    ]\\n    \\n    # Run tests\\n    for arn, expected in test_cases:\\n        result = extract_region_from_arn(arn)\\n        assert result == expected, f\"Failed for ARN: {arn}. Expected {expected}, got {result}\"\\n    \\n    print(\"All tests passed!\")\\n\\n# Run the tests\\ntest_extract_region()\\n```\\n\\nThis solution provides a robust way to extract the AWS region from an EC2 instance ARN with several key features:\\n\\n1. **ARN Validation**: \\n   - Checks if the ARN starts with \\'arn:aws:\\'\\n   - Ensures the ARN has enough parts to extract the region\\n\\n2. **Region Extraction**:\\n   - Extracts the region from the 4th part of the ARN (index 3)\\n\\n3. **Error Handling**:\\n   - Returns `None` for invalid or malformed ARNs\\n   - Handles `None` and empty string inputs\\n\\n4. **Test Cases**:\\n   - Includes a comprehensive test function to verify different scenarios\\n   - Covers various valid and invalid ARN formats\\n\\n### Usage Examples:\\n\\n```python\\n# Valid ARN examples\\nprint(extract_region_from_arn(\\'arn:aws:ec2:us-west-2:123456789012:instance/i-1234567890abcdef0\\'))\\n# Output: \\'us-west-2\\'\\n\\nprint(extract_region_from_arn(\\'arn:aws:ec2:eu-central-1:111222333444:instance/i-1111222233334444\\'))\\n# Output: \\'eu-central-1\\'\\n\\n# Invalid ARN examples\\nprint(extract_region_from_arn(\\'invalid-arn\\'))\\n# Output: None\\n\\nprint(extract_region_from_arn(None))\\n# Output: None\\n```\\n\\n### Key Considerations:\\n- The function assumes a standard AWS ARN format\\n- It works specifically for EC2 instance ARNs\\n- Provides simple and predictable error handling\\n\\n### Potential Improvements:\\n- Add more specific validation for region format\\n- Support ARNs from other AWS services\\n- Add more comprehensive error logging\\n\\nThe function is lightweight, easy to understand, and provides a clean solution for',\n",
       "  'test_case': {'task': 'Create a Python function to extract the AWS region from an EC2 instance ARN'},\n",
       "  'score': 8,\n",
       "  'reasoning': 'The solution provides a solid, practical approach to extracting AWS region from ARNs with good error handling and test coverage. While functional for basic use cases, it lacks some advanced validation and flexibility for broader ARN parsing scenarios.'},\n",
       " {'output': 'Here\\'s a comprehensive JSON schema to validate an AWS IAM policy document:\\n\\n```json\\n{\\n    \"$schema\": \"http://json-schema.org/draft-07/schema#\",\\n    \"type\": \"object\",\\n    \"required\": [\"Version\", \"Statement\"],\\n    \"properties\": {\\n        \"Version\": {\\n            \"type\": \"string\",\\n            \"enum\": [\"2012-10-17\", \"2008-10-17\"],\\n            \"description\": \"Policy language version\"\\n        },\\n        \"Statement\": {\\n            \"type\": \"array\",\\n            \"minItems\": 1,\\n            \"items\": {\\n                \"type\": \"object\",\\n                \"required\": [\"Effect\", \"Action\"],\\n                \"properties\": {\\n                    \"Sid\": {\\n                        \"type\": \"string\",\\n                        \"description\": \"Optional statement ID\"\\n                    },\\n                    \"Effect\": {\\n                        \"type\": \"string\",\\n                        \"enum\": [\"Allow\", \"Deny\"],\\n                        \"description\": \"Whether to allow or deny the actions\"\\n                    },\\n                    \"Action\": {\\n                        \"oneOf\": [\\n                            {\\n                                \"type\": \"string\",\\n                                \"pattern\": \"^[a-zA-Z0-9]+:[a-zA-Z0-9]+$\"\\n                            },\\n                            {\\n                                \"type\": \"array\",\\n                                \"items\": {\\n                                    \"type\": \"string\",\\n                                    \"pattern\": \"^[a-zA-Z0-9]+:[a-zA-Z0-9]+$\"\\n                                }\\n                            }\\n                        ],\\n                        \"description\": \"AWS service actions to allow or deny\"\\n                    },\\n                    \"Resource\": {\\n                        \"oneOf\": [\\n                            {\\n                                \"type\": \"string\"\\n                            },\\n                            {\\n                                \"type\": \"array\",\\n                                \"items\": {\\n                                    \"type\": \"string\"\\n                                }\\n                            }\\n                        ],\\n                        \"description\": \"AWS resources the actions apply to\"\\n                    },\\n                    \"Condition\": {\\n                        \"type\": \"object\",\\n                        \"description\": \"Conditions for policy application\",\\n                        \"patternProperties\": {\\n                            \"^[a-zA-Z]+:.*$\": {\\n                                \"type\": [\"string\", \"array\", \"object\", \"boolean\", \"number\"]\\n                            }\\n                        }\\n                    },\\n                    \"Principal\": {\\n                        \"oneOf\": [\\n                            {\\n                                \"type\": \"object\",\\n                                \"properties\": {\\n                                    \"AWS\": {\\n                                        \"oneOf\": [\\n                                            {\"type\": \"string\"},\\n                                            {\"type\": \"array\", \"items\": {\"type\": \"string\"}}\\n                                        ]\\n                                    }\\n                                }\\n                            },\\n                            {\\n                                \"type\": \"string\",\\n                                \"enum\": [\"*\"]\\n                            }\\n                        ],\\n                        \"description\": \"AWS entities the policy applies to\"\\n                    }\\n                },\\n                \"additionalProperties\": false\\n            }\\n        }\\n    },\\n    \"additionalProperties\": false\\n}\\n```\\n\\nThis JSON schema provides validation for AWS IAM policy documents with the following features:\\n\\n1. Validates policy version\\n2. Ensures at least one statement exists\\n3. Validates statement structure\\n4. Checks Action format\\n5. Allows multiple resources and actions\\n6. Validates Condition block\\n7. Handles Principal specification\\n8. Prevents additional unexpected properties\\n\\nExample valid policy:\\n```json\\n{\\n    \"Version\": \"2012-10-17\",\\n    \"Statement\": [\\n        {\\n            \"Effect\": \"Allow\",\\n            \"Action\": [\"s3:GetObject\", \"s3:PutObject\"],\\n            \"Resource\": \"arn:aws:s3:::mybucket/*\",\\n            \"Condition\": {\\n                \"StringEquals\": {\\n                    \"aws:PrincipalOrgID\": \"o-123456\"\\n                }\\n            }\\n        }\\n    ]\\n}\\n```\\n\\nThis schema provides comprehensive validation while maintaining flexibility for different policy structures.',\n",
       "  'test_case': {'task': 'Write a JSON schema to validate an AWS IAM policy document'},\n",
       "  'score': 7,\n",
       "  'reasoning': 'The schema provides a robust starting point for IAM policy validation with strong structural checks. However, it lacks nuanced validation for complex AWS permission scenarios and could benefit from more sophisticated matching of AWS-specific patterns.'},\n",
       " {'output': 'Here\\'s a solution to develop a regular expression for matching valid AWS resource names:\\n\\n```python\\nimport re\\n\\n# Regular expression pattern for AWS resource names\\naws_resource_name_pattern = r\\'^[a-z0-9-]+$\\'\\n\\n# Test function to validate resource names\\ndef is_valid_aws_resource_name(name):\\n    return re.match(aws_resource_name_pattern, name) is not None\\n\\n# Test cases\\ntest_cases = [\\n    \"my-ec2-instance\",    # Valid\\n    \"database123\",        # Valid\\n    \"web-server-01\",      # Valid\\n    \"MyInstance\",         # Invalid (contains uppercase)\\n    \"server_name\",        # Invalid (contains underscore)\\n    \"hello world\",        # Invalid (contains space)\\n    \"123-abc-def\",        # Valid\\n    \"-invalid-start\",     # Invalid (starts with hyphen)\\n    \"invalid-end-\",       # Invalid (ends with hyphen)\\n    \"\"                    # Invalid (empty string)\\n]\\n\\n# Run validation tests\\nfor case in test_cases:\\n    print(f\"\\'{case}\\': {is_valid_aws_resource_name(case)}\")\\n```\\n\\nKey points about the regex:\\n- `^` asserts start of string\\n- `[a-z0-9-]` allows only lowercase letters, numbers, and hyphens\\n- `+` requires at least one character\\n- `$` asserts end of string\\n\\nThe regex ensures:\\n- Only lowercase letters, numbers, and hyphens\\n- At least one character\\n- No leading/trailing hyphens\\n- No uppercase letters or special characters\\n\\nThis approach provides a robust validation for AWS resource naming conventions.',\n",
       "  'test_case': {'task': 'Develop a regular expression to match valid AWS resource names (containing only lowercase letters, numbers, and hyphens)'},\n",
       "  'score': 7,\n",
       "  'reasoning': 'The solution provides a solid foundation for AWS resource name validation with a well-structured regex pattern and thorough test cases. However, it could be enhanced with more specific AWS naming requirements and improved error handling.'}]"
      ]
     },
     "execution_count": 16,
     "metadata": {},
     "output_type": "execute_result"
    }
   ],
   "source": [
    "results"
   ]
  },
  {
   "cell_type": "code",
   "execution_count": null,
   "id": "012930f2",
   "metadata": {},
   "outputs": [],
   "source": []
  }
 ],
 "metadata": {
  "kernelspec": {
   "display_name": "prompt-eval",
   "language": "python",
   "name": "python3"
  },
  "language_info": {
   "codemirror_mode": {
    "name": "ipython",
    "version": 3
   },
   "file_extension": ".py",
   "mimetype": "text/x-python",
   "name": "python",
   "nbconvert_exporter": "python",
   "pygments_lexer": "ipython3",
   "version": "3.12.11"
  }
 },
 "nbformat": 4,
 "nbformat_minor": 5
}
