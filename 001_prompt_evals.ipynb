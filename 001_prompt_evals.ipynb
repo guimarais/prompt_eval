{
 "cells": [
  {
   "cell_type": "code",
   "execution_count": 20,
   "id": "5437be1e",
   "metadata": {},
   "outputs": [],
   "source": [
    "# Load env variables and create client\n",
    "import re\n",
    "import ast\n",
    "from dotenv import load_dotenv\n",
    "from statistics import mean\n",
    "from anthropic import Anthropic\n",
    "\n",
    "load_dotenv()\n",
    "\n",
    "client = Anthropic()\n",
    "model = \"claude-3-5-haiku-latest\""
   ]
  },
  {
   "cell_type": "code",
   "execution_count": 2,
   "id": "3b0d8e9c",
   "metadata": {},
   "outputs": [],
   "source": [
    "# Helper functions\n",
    "def add_user_message(messages, text):\n",
    "    user_message = {\"role\": \"user\", \"content\": text}\n",
    "    messages.append(user_message)\n",
    "\n",
    "\n",
    "def add_assistant_message(messages, text):\n",
    "    assistant_message = {\"role\": \"assistant\", \"content\": text}\n",
    "    messages.append(assistant_message)\n",
    "\n",
    "\n",
    "def chat(messages, system=None, temperature=1.0, stop_sequences=[]):\n",
    "    params = {\n",
    "        \"model\": model,\n",
    "        \"max_tokens\": 1000,\n",
    "        \"messages\": messages,\n",
    "        \"temperature\": temperature,\n",
    "        \"stop_sequences\": stop_sequences,\n",
    "    }\n",
    "\n",
    "    if system:\n",
    "        params[\"system\"] = system\n",
    "\n",
    "    message = client.messages.create(**params)\n",
    "    return message.content[0].text"
   ]
  },
  {
   "cell_type": "code",
   "execution_count": 38,
   "id": "1e788701",
   "metadata": {},
   "outputs": [],
   "source": [
    "import json\n",
    "\n",
    "\n",
    "def generate_dataset():\n",
    "    prompt = \"\"\"\n",
    "Generate a evaluation dataset for a prompt evaluation. The dataset will be used to evaluate prompts\n",
    "that generate Python, JSON, or Regex specifically for AWS-related tasks. Generate an array of JSON objects,\n",
    "each representing task that requires Python, JSON, or a Regex to complete.\n",
    "\n",
    "Example output:\n",
    "```json\n",
    "[\n",
    "    {\n",
    "        \"task\": \"Description of task\",\n",
    "        \"format\": \"python|json|regex\",\n",
    "        \"solution_criteria\": \"Key criteria to evaluate the solution\"\n",
    "    },\n",
    "    ...additional\n",
    "]\n",
    "```\n",
    "\n",
    "* Focus on tasks that can be solved by writing a single Python function, a single JSON object, or a regular expression.\n",
    "* Focus on tasks that do not require writing much code\n",
    "\n",
    "Please generate 3 objects.\n",
    "\"\"\"\n",
    "\n",
    "    messages = []\n",
    "    add_user_message(messages, prompt)\n",
    "    add_assistant_message(messages, \"```json\")\n",
    "    response = chat(messages, stop_sequences=[\"```\"])\n",
    "    return json.loads(response)"
   ]
  },
  {
   "cell_type": "code",
   "execution_count": 39,
   "id": "7a3af468",
   "metadata": {},
   "outputs": [
    {
     "data": {
      "text/plain": [
       "[{'task': 'Create a regular expression to validate an AWS IAM username, which must be between 1-64 characters, can only contain alphanumeric characters, underscores, and hyphens',\n",
       "  'format': 'regex',\n",
       "  'solution_criteria': 'Regex should match valid IAM usernames and reject names with special characters or outside length range'},\n",
       " {'task': \"Write a Python function to convert an AWS EC2 instance type (e.g. 't2.micro') into a dictionary with size and family components\",\n",
       "  'format': 'python',\n",
       "  'solution_criteria': \"Function should correctly parse instance type string into dictionary with 'family' and 'size' keys\"},\n",
       " {'task': 'Create a JSON object representing the minimum configuration for an AWS S3 bucket policy that allows public read access',\n",
       "  'format': 'json',\n",
       "  'solution_criteria': 'JSON should define a bucket policy with a statement allowing GetObject action for all principals'}]"
      ]
     },
     "execution_count": 39,
     "metadata": {},
     "output_type": "execute_result"
    }
   ],
   "source": [
    "dataset = generate_dataset()\n",
    "\n",
    "dataset"
   ]
  },
  {
   "cell_type": "code",
   "execution_count": 40,
   "id": "959e0737",
   "metadata": {},
   "outputs": [],
   "source": [
    "with open(\"dataset.json\", \"w\") as f:\n",
    "    json.dump(dataset, f, indent=2)"
   ]
  },
  {
   "cell_type": "code",
   "execution_count": 26,
   "id": "dbec50ef",
   "metadata": {},
   "outputs": [],
   "source": [
    "def run_prompt(test_case):\n",
    "    \"\"\"Merges the prompt and test case input, then returns the result\"\"\"\n",
    "    prompt = f\"\"\"\n",
    "    Please solve the following task:\n",
    "\n",
    "    {test_case['task']}\n",
    "\n",
    "    * Respond only with Python, JSON, or Regex as specified.\n",
    "    * Do not include any explanations or additional text.\n",
    "    \"\"\"\n",
    "\n",
    "    messages = []\n",
    "    add_user_message(messages, prompt)\n",
    "    add_assistant_message(messages, \"```code\")\n",
    "    output = chat(messages, stop_sequences=[\"```\"])\n",
    "    return output"
   ]
  },
  {
   "cell_type": "code",
   "execution_count": null,
   "id": "1a9de5a9",
   "metadata": {},
   "outputs": [],
   "source": [
    "def grade_by_model(test_case, output):\n",
    "    \"\"\"Grades the output of a test case using another model or the model itself\"\"\"\n",
    "    eval_prompt = f\"\"\"\n",
    "    You are an expert AWS code reviewer. Your task is to evaluate the following AI-generated solution.\n",
    "\n",
    "    Original Task:\n",
    "    <task>\n",
    "    {test_case[\"task\"]}\n",
    "    </task>\n",
    "\n",
    "    Solution to Evaluate:\n",
    "    <solution>\n",
    "    {output}\n",
    "    </solution>\n",
    "\n",
    "    Criteria for Evaluation:\n",
    "    <criteria>\n",
    "    {test_case[\"solution_criteria\"]}\n",
    "    </criteria>\n",
    "\n",
    "    Output Format\n",
    "    Provide your evaluation as a structured JSON object with the following fields, in this specific order:\n",
    "    - \"strengths\": An array of 1-3 key strengths\n",
    "    - \"weaknesses\": An array of 1-3 key areas for improvement\n",
    "    - \"reasoning\": A concise explanation of your overall assessment\n",
    "    - \"score\": A number between 1-10\n",
    "\n",
    "    Respond with JSON. Keep your response concise and direct.\n",
    "    Example response shape:\n",
    "    {{\n",
    "        \"strengths\": string[],\n",
    "        \"weaknesses\": string[],\n",
    "        \"reasoning\": string,\n",
    "        \"score\": number\n",
    "    }}\n",
    "    \"\"\"\n",
    "\n",
    "    messages = []\n",
    "    add_user_message(messages, eval_prompt)\n",
    "    add_assistant_message(messages, \"```json\")\n",
    "    eval_response = chat(messages, stop_sequences=[\"```\"])\n",
    "    return json.loads(eval_response)"
   ]
  },
  {
   "cell_type": "code",
   "execution_count": 33,
   "id": "ee5464cf",
   "metadata": {},
   "outputs": [],
   "source": [
    "def validate_json(text):\n",
    "    try:\n",
    "        json.loads(text.strip())\n",
    "        return 10\n",
    "    except json.JSONDecodeError:\n",
    "        return 0\n",
    "\n",
    "def validate_python(text):\n",
    "    try:\n",
    "        ast.parse(text.strip())\n",
    "        return 10\n",
    "    except SyntaxError:\n",
    "        return 0\n",
    "\n",
    "def validate_regex(text):\n",
    "    try:\n",
    "        re.compile(text.strip())\n",
    "        return 10\n",
    "    except re.error:\n",
    "        return 0\n",
    "    \n",
    "def grade_syntax(response, test_case):\n",
    "    format = test_case[\"format\"]\n",
    "    if format == \"json\":\n",
    "        return validate_json(response)\n",
    "    elif format == \"python\":\n",
    "        return validate_python(response)\n",
    "    else:\n",
    "        return validate_regex(response)"
   ]
  },
  {
   "cell_type": "code",
   "execution_count": 34,
   "id": "c39301e3",
   "metadata": {},
   "outputs": [],
   "source": [
    "def run_test_case(test_case):\n",
    "    \"\"\"Calls run_prompt, then grades the result\"\"\"\n",
    "    output = run_prompt(test_case)\n",
    "\n",
    "    # TODO - Grading\n",
    "    model_grade = grade_by_model(test_case, output)\n",
    "    model_score = model_grade[\"score\"]\n",
    "    reasoning = model_grade[\"reasoning\"]\n",
    "\n",
    "    syntax_score = grade_syntax(output, test_case)\n",
    "    score = (model_score + syntax_score) / 2  # Average the two scores\n",
    "\n",
    "    return {\n",
    "        \"output\": output,\n",
    "        \"test_case\": test_case,\n",
    "        \"score\": score,\n",
    "        \"reasoning\": reasoning\n",
    "    }\n"
   ]
  },
  {
   "cell_type": "code",
   "execution_count": 35,
   "id": "b1fc5308",
   "metadata": {},
   "outputs": [],
   "source": [
    "def run_eval(dataset):\n",
    "    \"\"\"Loads the dataset and calls run_test_case with each case\"\"\"\n",
    "\n",
    "    results = []\n",
    "    for test_case in dataset:\n",
    "        result = run_test_case(test_case)\n",
    "        results.append(result)\n",
    "\n",
    "    average_score = mean(result[\"score\"] for result in results)\n",
    "    print(f\"Average Score: {average_score}\")\n",
    "\n",
    "    return results"
   ]
  },
  {
   "cell_type": "code",
   "execution_count": 36,
   "id": "af0fba87",
   "metadata": {},
   "outputs": [
    {
     "name": "stdout",
     "output_type": "stream",
     "text": [
      "Average Score: 8.333333333333334\n"
     ]
    }
   ],
   "source": [
    "with open(\"dataset.json\", \"r\") as f:\n",
    "    dataset = json.load(f)\n",
    "\n",
    "results = run_eval(dataset)"
   ]
  },
  {
   "cell_type": "code",
   "execution_count": 37,
   "id": "1a68f731",
   "metadata": {},
   "outputs": [
    {
     "data": {
      "text/plain": [
       "[{'output': '\\n^[a-zA-Z][a-zA-Z0-9+=,.@_]{0,63}$\\n',\n",
       "  'test_case': {'task': 'Create a regex to validate an AWS IAM username that must start with a letter, can include letters, numbers, and these special characters: +, =, ,, ., @, _, and must be between 1-64 characters long',\n",
       "   'format': 'regex'},\n",
       "  'score': 9.0,\n",
       "  'reasoning': \"The regex mostly meets AWS IAM username requirements, capturing the core validation rules. However, it has a subtle issue allowing a zero-length username after the first character, which deviates from the '1-64 characters' specification. A minor adjustment would improve precision.\"},\n",
       " {'output': \"\\ndef get_ec2_instance_state(state_code):\\n    ec2_states = {\\n        0: 'pending',\\n        16: 'running',\\n        32: 'shutting-down',\\n        48: 'terminated',\\n        64: 'stopping',\\n        80: 'stopped'\\n    }\\n    return ec2_states.get(state_code, 'unknown')\\n\",\n",
       "  'test_case': {'task': 'Write a Python function that converts an AWS EC2 instance state code (0-16) to its human-readable description (e.g., 0 = pending, 16 = running)',\n",
       "   'format': 'python'},\n",
       "  'score': 8.0,\n",
       "  'reasoning': 'The solution provides a basic approach to mapping EC2 instance states, but uses non-standard state code mappings. The implementation is simple and readable, but lacks robustness for real-world use. It would benefit from using the actual AWS-defined state codes and adding input validation.'},\n",
       " {'output': '\\n{\\n    \"Version\": \"2012-10-17\",\\n    \"Statement\": [\\n        {\\n            \"Sid\": \"PublicReadGetObject\",\\n            \"Effect\": \"Allow\", \\n            \"Principal\": \"*\",\\n            \"Action\": \"s3:GetObject\",\\n            \"Resource\": \"arn:aws:s3:::bucket-name/*\"\\n        }\\n    ]\\n}\\n',\n",
       "  'test_case': {'task': 'Create a JSON object representing the minimal configuration for an AWS S3 bucket policy that allows public read access',\n",
       "   'format': 'json'},\n",
       "  'score': 8.0,\n",
       "  'reasoning': 'The solution provides a minimal working configuration for public read access, but lacks important security nuances. While technically functional, it creates an overly permissive policy that could expose sensitive data.'}]"
      ]
     },
     "execution_count": 37,
     "metadata": {},
     "output_type": "execute_result"
    }
   ],
   "source": [
    "results"
   ]
  },
  {
   "cell_type": "code",
   "execution_count": null,
   "id": "012930f2",
   "metadata": {},
   "outputs": [],
   "source": []
  }
 ],
 "metadata": {
  "kernelspec": {
   "display_name": "prompt-eval",
   "language": "python",
   "name": "python3"
  },
  "language_info": {
   "codemirror_mode": {
    "name": "ipython",
    "version": 3
   },
   "file_extension": ".py",
   "mimetype": "text/x-python",
   "name": "python",
   "nbconvert_exporter": "python",
   "pygments_lexer": "ipython3",
   "version": "3.12.11"
  }
 },
 "nbformat": 4,
 "nbformat_minor": 5
}
